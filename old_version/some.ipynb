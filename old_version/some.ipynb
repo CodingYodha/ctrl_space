{
 "cells": [
  {
   "cell_type": "code",
   "execution_count": 1,
   "id": "1301c0fe",
   "metadata": {},
   "outputs": [
    {
     "name": "stdout",
     "output_type": "stream",
     "text": [
      "hello\n"
     ]
    }
   ],
   "source": [
    "print(\"hello\")"
   ]
  },
  {
   "cell_type": "code",
   "execution_count": 2,
   "id": "29871966",
   "metadata": {},
   "outputs": [
    {
     "name": "stdout",
     "output_type": "stream",
     "text": [
      "Loss: 2.3027\n",
      "Epoch 1/5, Loss: 2.3166\n",
      "Epoch 2/5, Loss: 2.3306\n",
      "Epoch 3/5, Loss: 2.3150\n",
      "Epoch 4/5, Loss: 2.3326\n",
      "Epoch 5/5, Loss: 2.3407\n",
      "\n",
      "Training completed!\n",
      "fc1.weight: gradient computed, shape: torch.Size([128, 784])\n",
      "fc1.bias: gradient computed, shape: torch.Size([128])\n",
      "fc2.weight: gradient computed, shape: torch.Size([64, 128])\n",
      "fc2.bias: gradient computed, shape: torch.Size([64])\n",
      "fc3.weight: gradient computed, shape: torch.Size([10, 64])\n",
      "fc3.bias: gradient computed, shape: torch.Size([10])\n"
     ]
    }
   ],
   "source": [
    "import torch\n",
    "import torch.nn as nn\n",
    "import torch.optim as optim\n",
    "import torch.nn.functional as F\n",
    "\n",
    "# Simple neural network\n",
    "class SimpleNet(nn.Module):\n",
    "    def __init__(self):\n",
    "        super(SimpleNet, self).__init__()\n",
    "        self.fc1 = nn.Linear(784, 128)  # Input layer\n",
    "        self.fc2 = nn.Linear(128, 64)   # Hidden layer\n",
    "        self.fc3 = nn.Linear(64, 10)    # Output layer\n",
    "    \n",
    "    def forward(self, x):\n",
    "        x = F.relu(self.fc1(x))\n",
    "        x = F.relu(self.fc2(x))\n",
    "        x = self.fc3(x)\n",
    "        return x\n",
    "\n",
    "# Create model, loss function, and optimizer\n",
    "model = SimpleNet()\n",
    "criterion = nn.CrossEntropyLoss()\n",
    "optimizer = optim.SGD(model.parameters(), lr=0.01)\n",
    "\n",
    "# Sample training data\n",
    "batch_size = 32\n",
    "input_size = 784\n",
    "num_classes = 10\n",
    "\n",
    "# Random input and target for demonstration\n",
    "inputs = torch.randn(batch_size, input_size)\n",
    "targets = torch.randint(0, num_classes, (batch_size,))\n",
    "\n",
    "# Training step\n",
    "def train_step(model, inputs, targets, optimizer, criterion):\n",
    "    # 1. Zero gradients from previous iteration\n",
    "    optimizer.zero_grad()\n",
    "    \n",
    "    # 2. Forward pass\n",
    "    outputs = model(inputs)\n",
    "    \n",
    "    # 3. Calculate loss\n",
    "    loss = criterion(outputs, targets)\n",
    "    \n",
    "    # 4. Backward pass (backpropagation)\n",
    "    loss.backward()  # This computes gradients automatically\n",
    "    \n",
    "    # 5. Update weights\n",
    "    optimizer.step()\n",
    "    \n",
    "    return loss.item()\n",
    "\n",
    "# Run one training step\n",
    "loss_value = train_step(model, inputs, targets, optimizer, criterion)\n",
    "print(f\"Loss: {loss_value:.4f}\")\n",
    "\n",
    "# Training loop example\n",
    "num_epochs = 5\n",
    "for epoch in range(num_epochs):\n",
    "    # Generate new random data each epoch (in practice, use real data)\n",
    "    inputs = torch.randn(batch_size, input_size)\n",
    "    targets = torch.randint(0, num_classes, (batch_size,))\n",
    "    \n",
    "    loss_value = train_step(model, inputs, targets, optimizer, criterion)\n",
    "    print(f\"Epoch {epoch+1}/{num_epochs}, Loss: {loss_value:.4f}\")\n",
    "\n",
    "print(\"\\nTraining completed!\")\n",
    "\n",
    "# Check if gradients are computed\n",
    "for name, param in model.named_parameters():\n",
    "    if param.grad is not None:\n",
    "        print(f\"{name}: gradient computed, shape: {param.grad.shape}\")\n",
    "    else:\n",
    "        print(f\"{name}: no gradient\")"
   ]
  },
  {
   "cell_type": "code",
   "execution_count": 3,
   "id": "3d372735",
   "metadata": {},
   "outputs": [
    {
     "name": "stdout",
     "output_type": "stream",
     "text": [
      "True\n"
     ]
    }
   ],
   "source": [
    "import torch\n",
    "print(torch.cuda.is_available())"
   ]
  },
  {
   "cell_type": "code",
   "execution_count": null,
   "id": "28882b44",
   "metadata": {},
   "outputs": [],
   "source": []
  }
 ],
 "metadata": {
  "kernelspec": {
   "display_name": "Python 3.12 (try_it_out venv)",
   "language": "python",
   "name": "implementation"
  },
  "language_info": {
   "codemirror_mode": {
    "name": "ipython",
    "version": 3
   },
   "file_extension": ".py",
   "mimetype": "text/x-python",
   "name": "python",
   "nbconvert_exporter": "python",
   "pygments_lexer": "ipython3",
   "version": "3.12.11"
  }
 },
 "nbformat": 4,
 "nbformat_minor": 5
}
